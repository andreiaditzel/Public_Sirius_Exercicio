{
  "nbformat": 4,
  "nbformat_minor": 0,
  "metadata": {
    "colab": {
      "provenance": [],
      "include_colab_link": true
    },
    "kernelspec": {
      "name": "python3",
      "display_name": "Python 3"
    },
    "language_info": {
      "name": "python"
    }
  },
  "cells": [
    {
      "cell_type": "markdown",
      "metadata": {
        "id": "view-in-github",
        "colab_type": "text"
      },
      "source": [
        "<a href=\"https://colab.research.google.com/github/andreiaditzel/Public_Sirius_Exercicio/blob/main/C%C3%B3pia_de_Exerc%C3%ADcios_Introducao_Python.ipynb\" target=\"_parent\"><img src=\"https://colab.research.google.com/assets/colab-badge.svg\" alt=\"Open In Colab\"/></a>"
      ]
    },
    {
      "cell_type": "markdown",
      "source": [
        "# Exercícios de Lógica de Programação em Python"
      ],
      "metadata": {
        "id": "W6TJJ9VHQKUH"
      }
    },
    {
      "cell_type": "markdown",
      "source": [
        "## Exercício 1 (Aquecimento): Vamos criar uma calculadora (simples) com as operações soma, subtração, multiplicação, divisão.\n",
        "\n",
        "Dica: crie funções para tarefas específicas como, por exemplo, uma função `soma(a,b)`, uma função `subtracao(a,b)`, ... e depois use estas funções para criar a função `calculadora()`.\n",
        "\n",
        "Lembre-se de que não se pode dividir por zero."
      ],
      "metadata": {
        "id": "Ibj7Joj9QdwL"
      }
    },
    {
      "cell_type": "code",
      "execution_count": null,
      "metadata": {
        "id": "0ER-YTL8QEWm"
      },
      "outputs": [],
      "source": [
        "# seu código"
      ]
    },
    {
      "cell_type": "code",
      "source": [
        "def soma(a,b):\n",
        "  print(a+b)\n",
        "\n",
        "def subtracao(a,b):\n",
        "  print(a-b)\n",
        "\n",
        "def multiplicação(a,b):\n",
        "  print(a*b)\n",
        "\n",
        "def divisao(a,b):\n",
        "  if b==0:\n",
        "    return(\"Não se pode dividir numero por zero!\")\n",
        "  else:\n",
        "    print(a/b)\n",
        "\n"
      ],
      "metadata": {
        "id": "vQ0VO3t8mOgF"
      },
      "execution_count": null,
      "outputs": []
    },
    {
      "cell_type": "code",
      "source": [
        "def calculadora():\n",
        "  i=0\n",
        "  while i==0:\n",
        "    j = float(input('''Escolha o numero da operação a ser realizada:\n",
        "    1) soma\n",
        "    2) subtração\n",
        "    3) multiplicação\n",
        "    4) divisão\n",
        "    5) encerrar calculadora''')) \n",
        "    if j == 5:\n",
        "      break\n",
        "\n",
        "      a= float (input(\"Digite o primeiro valor\"))\n",
        "      b= float (input(\"Digite o segundo valor\"))\n",
        "\n",
        "      if j == 1:\n",
        "        print(\"Escolhida a operação soma\")\n",
        "      elif j == 2:\n",
        "        print(\"Escolhida a operação subtração\")\n",
        "      elif j == 3:\n",
        "        print(\"Escolhida a operação multiplicação\")\n",
        "      elif j == 4:\n",
        "        print(\"Escolhida a operação divisão\")\n",
        "      else:\n",
        "        print(\"Escolha uma operação válida\")\n",
        "      print(\"Encerrando calculadora\")"
      ],
      "metadata": {
        "id": "VsKmgHnroArQ"
      },
      "execution_count": null,
      "outputs": []
    },
    {
      "cell_type": "code",
      "source": [
        "calculadora()"
      ],
      "metadata": {
        "colab": {
          "base_uri": "https://localhost:8080/"
        },
        "id": "q1CPFs1bQSe7",
        "outputId": "4ce839d7-6c04-41a5-e49c-0770d9e53178"
      },
      "execution_count": null,
      "outputs": [
        {
          "output_type": "stream",
          "name": "stdout",
          "text": [
            "Escolha o número da operação a ser realizada:\n",
            "    1) soma\n",
            "    2) subtração\n",
            "    3) multiplicação\n",
            "    4) divisão\n",
            "    5) encerrar calculadora\n",
            "4\n",
            "Digite o primeiro valor: 2\n",
            "Digite o segundo valor: 3\n",
            "\n",
            "Escolhida a operação de divisão\n",
            "0.6666666666666666\n",
            "Escolha o número da operação a ser realizada:\n",
            "    1) soma\n",
            "    2) subtração\n",
            "    3) multiplicação\n",
            "    4) divisão\n",
            "    5) encerrar calculadora\n",
            "5\n",
            "Encerrando calculadora\n"
          ]
        }
      ]
    },
    {
      "cell_type": "markdown",
      "source": [
        "### Exercício 2: Em um curso da Sirius temos alunos dos mais variados perfis, tendo diferentes faixas etárias, morando em diferentes estados do Brasil e que tiraram diferentes notas. Essas informações estão em diferentes listas, uma somente com os nomes, outras somente com as notas, outra com a idades e outro com os estados de residência.\n",
        "\n",
        "Com base nisso crie funções que ajudem a responder as perguntas considerando os dados a seguir."
      ],
      "metadata": {
        "id": "QQZ2bBqeYOmu"
      }
    },
    {
      "cell_type": "code",
      "source": [
        "# dados\n",
        "nomes = ['João', 'José', 'Fernando', 'Rafaela', 'Kleber', 'Laercio', 'Carlos','Paula','Adriana','Walkyria','Guilherme','Gustavo','Gabriel', 'Mayara', 'Ana', 'Daniela', 'Rafael', 'Daiane', 'Maria', 'Mateus', 'Monique', 'Brian', 'Henrique', 'Alberto', 'Mônica', 'Bruce', 'Simone']\n",
        "notas = [8,7,6,9,3,8,7,5,9,1,4,5,8,4,9,7,5,6,2,7,4,5,8,7,9,10,5]\n",
        "idades = [25,17,56,32,27,31,48,24,41,50,29,22,30,31,28,52,27,33,35,36,38,26,29,35,38,41,46]\n",
        "estados = ['PR','SP','SP','MG','RJ','MG','PB','AM','SC','MS','SP','MG','AM','RO','MG','BA','MG','ES','CE','MG','PA','PI','PE','MG','RR','MG','SE']"
      ],
      "metadata": {
        "id": "_jyuP-rnQSdt"
      },
      "execution_count": null,
      "outputs": []
    },
    {
      "cell_type": "markdown",
      "source": [
        "#### 1) Crie uma função que seleciona o nome de todas as pessoas que residem em um determinado estado. Por exemplo, a função `alunos_por_estado(nomes, estados, 'SP')` deve retornar todos os nomes dos alunos que moram em São Paulo."
      ],
      "metadata": {
        "id": "4RcD29Dqcjnt"
      }
    },
    {
      "cell_type": "code",
      "source": [
        "# seu código\n",
        "def alunos_por_estado(lista_nomes, lista_estados, estado):\n",
        "  nomes = []\n",
        "  for i in range(len(lista_estados)):\n",
        "    if lista_estados[i] == estado:\n",
        "      nomes.append(lista_nomes[i])\n",
        "  return nomes\n"
      ],
      "metadata": {
        "id": "6_1P-Pkqcj74"
      },
      "execution_count": null,
      "outputs": []
    },
    {
      "cell_type": "code",
      "source": [
        "alunos_por_estado(nomes, estados, 'SP')"
      ],
      "metadata": {
        "id": "UXmTDgJcuJCx",
        "outputId": "2e45d6e7-f9f2-485c-9da3-9de6bbcc322f",
        "colab": {
          "base_uri": "https://localhost:8080/"
        }
      },
      "execution_count": null,
      "outputs": [
        {
          "output_type": "execute_result",
          "data": {
            "text/plain": [
              "['José', 'Fernando', 'Guilherme']"
            ]
          },
          "metadata": {},
          "execution_count": 39
        }
      ]
    },
    {
      "cell_type": "markdown",
      "source": [
        "#### 2) Crie uma função que calcula quantas pessoas foram aprovadas por estado, considerando média 6. Por exemplo, a função `quant_aprov_estado(estados, notas, 'SP')` deve retornar quantos alunos foram aprovados no estado de São Paulo."
      ],
      "metadata": {
        "id": "WMMMrm-uc3wz"
      }
    },
    {
      "cell_type": "code",
      "source": [
        "# seu código\n",
        "def quant_aprov_estado(lista_estados, lista_notas, estado):\n",
        "  cont = 0\n",
        "  for i in range(len(lista_estados)):\n",
        "    if (lista_estados[i] == estado) & (lista_notas [i] >= 6):\n",
        "      cont = cont + 1\n",
        "  print(f'Há {cont} aprovados no estado {estado}')"
      ],
      "metadata": {
        "id": "aHJtbdGVc73x"
      },
      "execution_count": null,
      "outputs": []
    },
    {
      "cell_type": "code",
      "source": [
        "quant_aprov_estado(estados, notas, 'SP')"
      ],
      "metadata": {
        "colab": {
          "base_uri": "https://localhost:8080/"
        },
        "id": "L_guJdqRhXdY",
        "outputId": "9835a83a-52b6-49cd-cb63-38e746c6da4a"
      },
      "execution_count": null,
      "outputs": [
        {
          "output_type": "stream",
          "name": "stdout",
          "text": [
            "Há 2 aprovados no estado SP\n"
          ]
        }
      ]
    },
    {
      "cell_type": "markdown",
      "source": [
        "#### 3) Crie uma função que calcula quantos alunos há por estado. Por exemplo, a função `alunos_por_estado(estados)` deve retornar uma mensagem dizendo quantos alunos há em cada estado."
      ],
      "metadata": {
        "id": "H2rxUkYdikLQ"
      }
    },
    {
      "cell_type": "code",
      "source": [
        "# seu código\n",
        "def alunos_por_estado(lista_estados):\n",
        "  estados_sem_rep = list(set(lista_estados))\n",
        "  for estado in estados_sem_rep:\n",
        "    cont = 0\n",
        "    for i in range(len(lista_estados)):\n",
        "      if lista_estados[i] == estado:\n",
        "        cont = cont + 1\n",
        "    if cont == 1:\n",
        "     print(f'No estado {estado} há {cont} aluno')\n",
        "    else:\n",
        "     print(f'No estado {estado} há {cont} alunos')"
      ],
      "metadata": {
        "id": "GOvbE5uUhbjX"
      },
      "execution_count": null,
      "outputs": []
    },
    {
      "cell_type": "code",
      "source": [
        "alunos_por_estado(estados)"
      ],
      "metadata": {
        "colab": {
          "base_uri": "https://localhost:8080/"
        },
        "id": "6ZNGGaVlkuqa",
        "outputId": "d6d10741-03e0-4c70-98a5-688c02f2b81b"
      },
      "execution_count": null,
      "outputs": [
        {
          "output_type": "stream",
          "name": "stdout",
          "text": [
            "No estado SP há 3 alunos\n",
            "No estado AM há 2 alunos\n",
            "No estado BA há 1 aluno\n",
            "No estado CE há 1 aluno\n",
            "No estado PR há 1 aluno\n",
            "No estado PE há 1 aluno\n",
            "No estado RJ há 1 aluno\n",
            "No estado SE há 1 aluno\n",
            "No estado PI há 1 aluno\n",
            "No estado PB há 1 aluno\n",
            "No estado MG há 8 alunos\n",
            "No estado RO há 1 aluno\n",
            "No estado MS há 1 aluno\n",
            "No estado ES há 1 aluno\n",
            "No estado PA há 1 aluno\n",
            "No estado SC há 1 aluno\n",
            "No estado RR há 1 aluno\n"
          ]
        }
      ]
    },
    {
      "cell_type": "markdown",
      "source": [
        "#### 4) Crie uma função que calcula a média das notas dos alunos de um determinado estado. Por exemplo, a função `media_por_estado(notas, estados, 'SP')` deve retornar a média das notas do alunos (com duas casas decimais) do estado de São Paulo."
      ],
      "metadata": {
        "id": "roX11LBBkEgr"
      }
    },
    {
      "cell_type": "code",
      "source": [
        "# seu código"
      ],
      "metadata": {
        "id": "JVEZlfqjkE6M"
      },
      "execution_count": null,
      "outputs": []
    },
    {
      "cell_type": "code",
      "source": [
        "media_por_estado(notas, estados, 'SP')"
      ],
      "metadata": {
        "colab": {
          "base_uri": "https://localhost:8080/"
        },
        "id": "ybvRcKHTmono",
        "outputId": "f988d8ab-786e-4d41-ff07-cc55981d4b90"
      },
      "execution_count": null,
      "outputs": [
        {
          "output_type": "stream",
          "name": "stdout",
          "text": [
            "A média das notas dos alunos do estado SP foi de 5.67\n"
          ]
        }
      ]
    },
    {
      "cell_type": "markdown",
      "source": [
        "#### 5) Crie uma função que calcula a média das idades dos alunos aprovados (considerando media 6) de um determinado estado. Por exemplo, a função `media_idade_aprov_por_estado(notas, estados, idades, 'SP')` deve retornar a média das idades do alunos (com duas casas decimais) aprovados que residem no estado de São Paulo."
      ],
      "metadata": {
        "id": "53LQI5JvnjjL"
      }
    },
    {
      "cell_type": "code",
      "source": [
        "# seu código"
      ],
      "metadata": {
        "id": "wCJTqBFemsDG"
      },
      "execution_count": null,
      "outputs": []
    },
    {
      "cell_type": "code",
      "source": [
        "media_idade_aprov_por_estado(notas, estados, idades, 'SP')"
      ],
      "metadata": {
        "colab": {
          "base_uri": "https://localhost:8080/"
        },
        "id": "RVqtGN_ToqNc",
        "outputId": "1899de05-38f8-4b12-e9b7-763e84bb380c"
      },
      "execution_count": null,
      "outputs": [
        {
          "output_type": "stream",
          "name": "stdout",
          "text": [
            "A média de idade dos alunos aprovados do estado de SP é 36.5\n"
          ]
        }
      ]
    },
    {
      "cell_type": "code",
      "source": [],
      "metadata": {
        "id": "0z3gQmECou36"
      },
      "execution_count": null,
      "outputs": []
    }
  ]
}